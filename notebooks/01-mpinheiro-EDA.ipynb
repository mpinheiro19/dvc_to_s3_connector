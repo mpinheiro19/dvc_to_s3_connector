{
 "cells": [
  {
   "cell_type": "code",
   "execution_count": 2,
   "metadata": {},
   "outputs": [],
   "source": [
    "import pandas as pd\n",
    "\n",
    "path_to_file = \"../data/raw/airline_occurences.csv\""
   ]
  },
  {
   "cell_type": "code",
   "execution_count": 3,
   "metadata": {},
   "outputs": [
    {
     "data": {
      "text/html": [
       "<div>\n",
       "<style scoped>\n",
       "    .dataframe tbody tr th:only-of-type {\n",
       "        vertical-align: middle;\n",
       "    }\n",
       "\n",
       "    .dataframe tbody tr th {\n",
       "        vertical-align: top;\n",
       "    }\n",
       "\n",
       "    .dataframe thead th {\n",
       "        text-align: right;\n",
       "    }\n",
       "</style>\n",
       "<table border=\"1\" class=\"dataframe\">\n",
       "  <thead>\n",
       "    <tr style=\"text-align: right;\">\n",
       "      <th></th>\n",
       "      <th>Report</th>\n",
       "      <th>Part Failure</th>\n",
       "      <th>Occurence Nature condition</th>\n",
       "      <th>Occurence Precautionary Procedures</th>\n",
       "    </tr>\n",
       "  </thead>\n",
       "  <tbody>\n",
       "    <tr>\n",
       "      <th>0</th>\n",
       "      <td>MECHANICAL / LANDING GEAR GND FAIL MSG AFTER T...</td>\n",
       "      <td>RT MLG BRAKE DAMAGED</td>\n",
       "      <td>WARNING INDICATION</td>\n",
       "      <td>OTHER</td>\n",
       "    </tr>\n",
       "    <tr>\n",
       "      <th>1</th>\n",
       "      <td>THE NOSE LANDING GEAR DID NOT EXTEND FULLY DUR...</td>\n",
       "      <td>ZONE 700 MALFUNCTIONED</td>\n",
       "      <td>WARNING INDICATION</td>\n",
       "      <td>ABORTED APPROACH</td>\n",
       "    </tr>\n",
       "    <tr>\n",
       "      <th>2</th>\n",
       "      <td>THE LEFT SIDE HYDRAULIC SYSTEM FILTER BOWL ASS...</td>\n",
       "      <td>HYD FILTER FAILED</td>\n",
       "      <td>OTHER</td>\n",
       "      <td>ABORTED APPROACH</td>\n",
       "    </tr>\n",
       "    <tr>\n",
       "      <th>3</th>\n",
       "      <td>AIRCRAFT WAS ON ROLLOUT DURING A NORMAL LANDIN...</td>\n",
       "      <td>LEFT COLLAPSED</td>\n",
       "      <td>OTHER</td>\n",
       "      <td>OTHER</td>\n",
       "    </tr>\n",
       "    <tr>\n",
       "      <th>4</th>\n",
       "      <td>UPON TAKEOFF ROLL BUT PRIOR TO REACHING 80 KNO...</td>\n",
       "      <td>ZONE 600 CRACKED</td>\n",
       "      <td>WARNING INDICATION</td>\n",
       "      <td>ABORTED TAKEOFF</td>\n",
       "    </tr>\n",
       "  </tbody>\n",
       "</table>\n",
       "</div>"
      ],
      "text/plain": [
       "                                              Report  \\\n",
       "0  MECHANICAL / LANDING GEAR GND FAIL MSG AFTER T...   \n",
       "1  THE NOSE LANDING GEAR DID NOT EXTEND FULLY DUR...   \n",
       "2  THE LEFT SIDE HYDRAULIC SYSTEM FILTER BOWL ASS...   \n",
       "3  AIRCRAFT WAS ON ROLLOUT DURING A NORMAL LANDIN...   \n",
       "4  UPON TAKEOFF ROLL BUT PRIOR TO REACHING 80 KNO...   \n",
       "\n",
       "                    Part Failure  Occurence Nature condition  \\\n",
       "0  RT MLG BRAKE DAMAGED           WARNING INDICATION           \n",
       "1      ZONE 700 MALFUNCTIONED     WARNING INDICATION           \n",
       "2    HYD FILTER FAILED            OTHER                        \n",
       "3          LEFT COLLAPSED         OTHER                        \n",
       "4      ZONE 600 CRACKED           WARNING INDICATION           \n",
       "\n",
       "  Occurence Precautionary Procedures  \n",
       "0           OTHER                     \n",
       "1           ABORTED APPROACH          \n",
       "2           ABORTED APPROACH          \n",
       "3           OTHER                     \n",
       "4           ABORTED TAKEOFF           "
      ]
     },
     "execution_count": 3,
     "metadata": {},
     "output_type": "execute_result"
    }
   ],
   "source": [
    "df = pd.read_csv(\n",
    "    path_to_file, \n",
    "    sep=','\n",
    ")\n",
    "\n",
    "df.head()"
   ]
  },
  {
   "cell_type": "code",
   "execution_count": 4,
   "metadata": {},
   "outputs": [],
   "source": [
    "df.columns = [str(col.replace(\" \" , \"_\")).lower() # handle column names\n",
    "    for col \n",
    "    in df.columns\n",
    "]"
   ]
  },
  {
   "cell_type": "code",
   "execution_count": 5,
   "metadata": {},
   "outputs": [
    {
     "data": {
      "text/plain": [
       "0                                      RT MLG BRAKE DAMAGED\n",
       "1                                    ZONE 700 MALFUNCTIONED\n",
       "2                                         HYD FILTER FAILED\n",
       "3                                            LEFT COLLAPSED\n",
       "4                                          ZONE 600 CRACKED\n",
       "                                ...                        \n",
       "100024                                          10GG FAILED\n",
       "100025                                        7501MM FAILED\n",
       "100026                              720001-01-001-RH FAILED\n",
       "100027                                           5QT FAILED\n",
       "100028    LANDING GEAR GND FAIL MSG AFTER TAKEOFF EMERGE...\n",
       "Name: part_failure, Length: 100029, dtype: object"
      ]
     },
     "execution_count": 5,
     "metadata": {},
     "output_type": "execute_result"
    }
   ],
   "source": [
    "df[\"part_failure\"].str.strip()"
   ]
  },
  {
   "cell_type": "code",
   "execution_count": 6,
   "metadata": {},
   "outputs": [],
   "source": [
    "df.occurence_precautionary_procedures=df.occurence_precautionary_procedures.str.strip()"
   ]
  },
  {
   "cell_type": "code",
   "execution_count": 7,
   "metadata": {},
   "outputs": [
    {
     "data": {
      "text/plain": [
       "NONE                        79268\n",
       "OTHER                       14856\n",
       "UNSCHED LANDING              3627\n",
       "ABORTED TAKEOFF               719\n",
       "RETURN TO BLOCK               556\n",
       "EMER. DESCENT                 422\n",
       "ENGINE SHUTDOWN               229\n",
       "ABORTED APPROACH              142\n",
       "DEACTIVATE SYST/CIRCUITS      135\n",
       "DUMP FUEL                      25\n",
       "ACTIVATE FIRE EXT.             22\n",
       "O2 MASK DEPLOYED               21\n",
       "AUTOROTATION                    4\n",
       "CABIN DEPRESSURIZATION          3\n",
       "Name: occurence_precautionary_procedures, dtype: int64"
      ]
     },
     "execution_count": 7,
     "metadata": {},
     "output_type": "execute_result"
    }
   ],
   "source": [
    "df.occurence_precautionary_procedures.value_counts()"
   ]
  },
  {
   "cell_type": "code",
   "execution_count": 8,
   "metadata": {},
   "outputs": [
    {
     "data": {
      "text/plain": [
       "OTHER                         82172\n",
       "WARNING INDICATION             7154\n",
       "NO TEST                        3577\n",
       "SMOKE/FUMES/ODORS/SPARKS       2166\n",
       "FALSE WARNING                  1683\n",
       "FLUID LOSS                      975\n",
       "FLT CONT AFFECTED               320\n",
       "OVER TEMP                       316\n",
       "NO WARNING INDICATION           255\n",
       "VIBRATION/BUFFET                228\n",
       "INADEQUATE Q C                  223\n",
       "AFFECT SYSTEMS                  202\n",
       "F.O.D.                          191\n",
       "PARTIAL RPM/PWR LOSS            152\n",
       "MULTIPLE FAILURE                107\n",
       "FLAME/FIRE                       65\n",
       "ENGINE STOPPAGE                  56\n",
       "SIGNIFICANT FAILURE REPORT       53\n",
       "INFLIGHT SEPARATION              47\n",
       "ENGINE FLAMEOUT                  38\n",
       "ELECT. POWER LOSS-50 PC          27\n",
       "FLT. ATTITUDE INST.              21\n",
       "WARNING INDICATION                1\n",
       "Name: occurence_nature_condition, dtype: int64"
      ]
     },
     "execution_count": 8,
     "metadata": {},
     "output_type": "execute_result"
    }
   ],
   "source": [
    "df.occurence_nature_condition.value_counts()"
   ]
  },
  {
   "cell_type": "code",
   "execution_count": 18,
   "metadata": {},
   "outputs": [
    {
     "data": {
      "text/plain": [
       "0     False\n",
       "1     False\n",
       "2     False\n",
       "3     False\n",
       "4     False\n",
       "5     False\n",
       "6     False\n",
       "7     False\n",
       "8     False\n",
       "9     False\n",
       "10    False\n",
       "11    False\n",
       "12    False\n",
       "13    False\n",
       "14    False\n",
       "15    False\n",
       "16    False\n",
       "17    False\n",
       "18    False\n",
       "19    False\n",
       "Name: part_failure, dtype: bool"
      ]
     },
     "execution_count": 18,
     "metadata": {},
     "output_type": "execute_result"
    }
   ],
   "source": [
    "df.part_failure"
   ]
  },
  {
   "cell_type": "code",
   "execution_count": null,
   "metadata": {},
   "outputs": [],
   "source": []
  }
 ],
 "metadata": {
  "kernelspec": {
   "display_name": "jupyter-env",
   "language": "python",
   "name": "python3"
  },
  "language_info": {
   "codemirror_mode": {
    "name": "ipython",
    "version": 3
   },
   "file_extension": ".py",
   "mimetype": "text/x-python",
   "name": "python",
   "nbconvert_exporter": "python",
   "pygments_lexer": "ipython3",
   "version": "3.10.6"
  },
  "orig_nbformat": 4
 },
 "nbformat": 4,
 "nbformat_minor": 2
}
