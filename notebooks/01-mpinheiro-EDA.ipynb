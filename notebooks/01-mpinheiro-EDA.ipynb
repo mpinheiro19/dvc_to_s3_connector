{
 "cells": [
  {
   "cell_type": "code",
   "execution_count": 3,
   "metadata": {},
   "outputs": [],
   "source": [
    "import pandas as pd\n",
    "\n",
    "path_to_file = \"../data/raw/airline_occurences.csv\""
   ]
  },
  {
   "cell_type": "code",
   "execution_count": 15,
   "metadata": {},
   "outputs": [
    {
     "data": {
      "text/html": [
       "<div>\n",
       "<style scoped>\n",
       "    .dataframe tbody tr th:only-of-type {\n",
       "        vertical-align: middle;\n",
       "    }\n",
       "\n",
       "    .dataframe tbody tr th {\n",
       "        vertical-align: top;\n",
       "    }\n",
       "\n",
       "    .dataframe thead th {\n",
       "        text-align: right;\n",
       "    }\n",
       "</style>\n",
       "<table border=\"1\" class=\"dataframe\">\n",
       "  <thead>\n",
       "    <tr style=\"text-align: right;\">\n",
       "      <th></th>\n",
       "      <th>Report</th>\n",
       "      <th>Part Failure</th>\n",
       "      <th>Occurence Nature condition</th>\n",
       "      <th>Occurence Precautionary Procedures</th>\n",
       "    </tr>\n",
       "  </thead>\n",
       "  <tbody>\n",
       "    <tr>\n",
       "      <th>0</th>\n",
       "      <td>MECHANICAL / LANDING GEAR GND FAIL MSG AFTER T...</td>\n",
       "      <td>RT MLG BRAKE DAMAGED</td>\n",
       "      <td>WARNING INDICATION</td>\n",
       "      <td>OTHER</td>\n",
       "    </tr>\n",
       "    <tr>\n",
       "      <th>1</th>\n",
       "      <td>THE NOSE LANDING GEAR DID NOT EXTEND FULLY DUR...</td>\n",
       "      <td>ZONE 700 MALFUNCTIONED</td>\n",
       "      <td>WARNING INDICATION</td>\n",
       "      <td>ABORTED APPROACH</td>\n",
       "    </tr>\n",
       "    <tr>\n",
       "      <th>2</th>\n",
       "      <td>THE LEFT SIDE HYDRAULIC SYSTEM FILTER BOWL ASS...</td>\n",
       "      <td>HYD FILTER FAILED</td>\n",
       "      <td>OTHER</td>\n",
       "      <td>ABORTED APPROACH</td>\n",
       "    </tr>\n",
       "    <tr>\n",
       "      <th>3</th>\n",
       "      <td>AIRCRAFT WAS ON ROLLOUT DURING A NORMAL LANDIN...</td>\n",
       "      <td>LEFT COLLAPSED</td>\n",
       "      <td>OTHER</td>\n",
       "      <td>OTHER</td>\n",
       "    </tr>\n",
       "    <tr>\n",
       "      <th>4</th>\n",
       "      <td>UPON TAKEOFF ROLL BUT PRIOR TO REACHING 80 KNO...</td>\n",
       "      <td>ZONE 600 CRACKED</td>\n",
       "      <td>WARNING INDICATION</td>\n",
       "      <td>ABORTED TAKEOFF</td>\n",
       "    </tr>\n",
       "  </tbody>\n",
       "</table>\n",
       "</div>"
      ],
      "text/plain": [
       "                                              Report  \\\n",
       "0  MECHANICAL / LANDING GEAR GND FAIL MSG AFTER T...   \n",
       "1  THE NOSE LANDING GEAR DID NOT EXTEND FULLY DUR...   \n",
       "2  THE LEFT SIDE HYDRAULIC SYSTEM FILTER BOWL ASS...   \n",
       "3  AIRCRAFT WAS ON ROLLOUT DURING A NORMAL LANDIN...   \n",
       "4  UPON TAKEOFF ROLL BUT PRIOR TO REACHING 80 KNO...   \n",
       "\n",
       "                    Part Failure  Occurence Nature condition  \\\n",
       "0  RT MLG BRAKE DAMAGED           WARNING INDICATION           \n",
       "1      ZONE 700 MALFUNCTIONED     WARNING INDICATION           \n",
       "2    HYD FILTER FAILED            OTHER                        \n",
       "3          LEFT COLLAPSED         OTHER                        \n",
       "4      ZONE 600 CRACKED           WARNING INDICATION           \n",
       "\n",
       "  Occurence Precautionary Procedures  \n",
       "0           OTHER                     \n",
       "1           ABORTED APPROACH          \n",
       "2           ABORTED APPROACH          \n",
       "3           OTHER                     \n",
       "4           ABORTED TAKEOFF           "
      ]
     },
     "execution_count": 15,
     "metadata": {},
     "output_type": "execute_result"
    }
   ],
   "source": [
    "df = pd.read_csv(\n",
    "    path_to_file, \n",
    "    sep=','\n",
    ")\n",
    "\n",
    "df.head()"
   ]
  },
  {
   "cell_type": "code",
   "execution_count": 24,
   "metadata": {},
   "outputs": [],
   "source": [
    "df.columns = [str(col.replace(\" \" , \"_\")).lower() # handle column names\n",
    "    for col \n",
    "    in df.columns\n",
    "]"
   ]
  },
  {
   "cell_type": "code",
   "execution_count": 32,
   "metadata": {},
   "outputs": [
    {
     "data": {
      "text/plain": [
       "0                                      RT MLG BRAKE DAMAGED\n",
       "1                                    ZONE 700 MALFUNCTIONED\n",
       "2                                         HYD FILTER FAILED\n",
       "3                                            LEFT COLLAPSED\n",
       "4                                          ZONE 600 CRACKED\n",
       "                                ...                        \n",
       "100024                                          10GG FAILED\n",
       "100025                                        7501MM FAILED\n",
       "100026                              720001-01-001-RH FAILED\n",
       "100027                                           5QT FAILED\n",
       "100028    LANDING GEAR GND FAIL MSG AFTER TAKEOFF EMERGE...\n",
       "Name: part_failure, Length: 100029, dtype: object"
      ]
     },
     "execution_count": 32,
     "metadata": {},
     "output_type": "execute_result"
    }
   ],
   "source": [
    "df[\"part_failure\"].str.strip()"
   ]
  },
  {
   "cell_type": "code",
   "execution_count": null,
   "metadata": {},
   "outputs": [],
   "source": []
  }
 ],
 "metadata": {
  "kernelspec": {
   "display_name": "jupyter-env",
   "language": "python",
   "name": "python3"
  },
  "language_info": {
   "codemirror_mode": {
    "name": "ipython",
    "version": 3
   },
   "file_extension": ".py",
   "mimetype": "text/x-python",
   "name": "python",
   "nbconvert_exporter": "python",
   "pygments_lexer": "ipython3",
   "version": "3.10.6"
  },
  "orig_nbformat": 4
 },
 "nbformat": 4,
 "nbformat_minor": 2
}
